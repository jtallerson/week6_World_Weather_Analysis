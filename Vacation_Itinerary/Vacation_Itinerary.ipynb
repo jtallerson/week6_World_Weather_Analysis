{
 "cells": [
  {
   "cell_type": "markdown",
   "metadata": {},
   "source": [
    "## Deliverable 3. Create a Travel Itinerary Map."
   ]
  },
  {
   "cell_type": "code",
   "execution_count": 1,
   "metadata": {},
   "outputs": [],
   "source": [
    "# Dependencies and Setup\n",
    "import pandas as pd\n",
    "import requests\n",
    "import gmaps\n",
    "\n",
    "# Import API key\n",
    "from config import g_key\n",
    "\n",
    "# Configure gmaps\n",
    "gmaps.configure(api_key=g_key)"
   ]
  },
  {
   "cell_type": "code",
   "execution_count": 2,
   "metadata": {},
   "outputs": [
    {
     "data": {
      "text/html": [
       "<div>\n",
       "<style scoped>\n",
       "    .dataframe tbody tr th:only-of-type {\n",
       "        vertical-align: middle;\n",
       "    }\n",
       "\n",
       "    .dataframe tbody tr th {\n",
       "        vertical-align: top;\n",
       "    }\n",
       "\n",
       "    .dataframe thead th {\n",
       "        text-align: right;\n",
       "    }\n",
       "</style>\n",
       "<table border=\"1\" class=\"dataframe\">\n",
       "  <thead>\n",
       "    <tr style=\"text-align: right;\">\n",
       "      <th></th>\n",
       "      <th>City_ID</th>\n",
       "      <th>City</th>\n",
       "      <th>Countries</th>\n",
       "      <th>Temp</th>\n",
       "      <th>Humidity</th>\n",
       "      <th>Latitude</th>\n",
       "      <th>Longitude</th>\n",
       "      <th>Hotel Name</th>\n",
       "      <th>Hotel Address</th>\n",
       "    </tr>\n",
       "  </thead>\n",
       "  <tbody>\n",
       "    <tr>\n",
       "      <th>0</th>\n",
       "      <td>0</td>\n",
       "      <td>Kavieng</td>\n",
       "      <td>PG</td>\n",
       "      <td>84.94</td>\n",
       "      <td>71</td>\n",
       "      <td>-2.5744</td>\n",
       "      <td>150.7967</td>\n",
       "      <td>Nusa Island Retreat</td>\n",
       "      <td>Nusa Island Kavieng New Ireland PG 631, Kavieng</td>\n",
       "    </tr>\n",
       "    <tr>\n",
       "      <th>1</th>\n",
       "      <td>1</td>\n",
       "      <td>Marshfield</td>\n",
       "      <td>US</td>\n",
       "      <td>75.31</td>\n",
       "      <td>78</td>\n",
       "      <td>44.6689</td>\n",
       "      <td>-90.1718</td>\n",
       "      <td>Holiday Inn Conference Ctr Marshfield, an IHG ...</td>\n",
       "      <td>750 South Central Avenue, Marshfield</td>\n",
       "    </tr>\n",
       "    <tr>\n",
       "      <th>2</th>\n",
       "      <td>2</td>\n",
       "      <td>Puerto Ayora</td>\n",
       "      <td>EC</td>\n",
       "      <td>73.54</td>\n",
       "      <td>91</td>\n",
       "      <td>-0.7393</td>\n",
       "      <td>-90.3518</td>\n",
       "      <td>Finch Bay Galapagos Hotel</td>\n",
       "      <td>Barrio Punta Estrada, Puerto Ayora</td>\n",
       "    </tr>\n",
       "    <tr>\n",
       "      <th>3</th>\n",
       "      <td>3</td>\n",
       "      <td>Tevaitoa</td>\n",
       "      <td>PF</td>\n",
       "      <td>80.89</td>\n",
       "      <td>78</td>\n",
       "      <td>-16.7833</td>\n",
       "      <td>-151.5000</td>\n",
       "      <td>Hôtel Raiatea Lodge</td>\n",
       "      <td>BP 680 Tumaraa Raiatea</td>\n",
       "    </tr>\n",
       "    <tr>\n",
       "      <th>4</th>\n",
       "      <td>4</td>\n",
       "      <td>Hilo</td>\n",
       "      <td>US</td>\n",
       "      <td>76.91</td>\n",
       "      <td>76</td>\n",
       "      <td>19.7297</td>\n",
       "      <td>-155.0900</td>\n",
       "      <td>Hilo Hawaiian Hotel</td>\n",
       "      <td>71 Banyan Drive, Hilo</td>\n",
       "    </tr>\n",
       "  </tbody>\n",
       "</table>\n",
       "</div>"
      ],
      "text/plain": [
       "   City_ID          City Countries   Temp  Humidity  Latitude  Longitude  \\\n",
       "0        0       Kavieng        PG  84.94        71   -2.5744   150.7967   \n",
       "1        1    Marshfield        US  75.31        78   44.6689   -90.1718   \n",
       "2        2  Puerto Ayora        EC  73.54        91   -0.7393   -90.3518   \n",
       "3        3      Tevaitoa        PF  80.89        78  -16.7833  -151.5000   \n",
       "4        4          Hilo        US  76.91        76   19.7297  -155.0900   \n",
       "\n",
       "                                          Hotel Name  \\\n",
       "0                                Nusa Island Retreat   \n",
       "1  Holiday Inn Conference Ctr Marshfield, an IHG ...   \n",
       "2                          Finch Bay Galapagos Hotel   \n",
       "3                                Hôtel Raiatea Lodge   \n",
       "4                                Hilo Hawaiian Hotel   \n",
       "\n",
       "                                     Hotel Address  \n",
       "0  Nusa Island Kavieng New Ireland PG 631, Kavieng  \n",
       "1             750 South Central Avenue, Marshfield  \n",
       "2               Barrio Punta Estrada, Puerto Ayora  \n",
       "3                           BP 680 Tumaraa Raiatea  \n",
       "4                            71 Banyan Drive, Hilo  "
      ]
     },
     "execution_count": 2,
     "metadata": {},
     "output_type": "execute_result"
    }
   ],
   "source": [
    "# 1. Read the WeatherPy_vacation.csv into a DataFrame.\n",
    "vacation_df = pd.read_csv(\"Weather_Database/WeatherPy_vacation.csv\")\n",
    "vacation_df.head()"
   ]
  },
  {
   "cell_type": "code",
   "execution_count": 5,
   "metadata": {},
   "outputs": [],
   "source": [
    "# 2. Using the template add the city name, the country code, the weather description and maximum temperature for the city.\n",
    "info_box_template = \"\"\"\n",
    "<dl>\n",
    "<dt>City</dt><dd>{City}</dd>\n",
    "<dt>Countries</dt><dd>{Countries}</dd>\n",
    "<dt>Weather</dt> and {Temp} °F</dd>\n",
    "</dl>\n",
    "\"\"\"\n",
    "\n",
    "# 3a. Get the data from each row and add it to the formatting template and store the data in a list.\n",
    "hotel_info = [info_box_template.format(**row) for index, row in vacation_df.iterrows()]\n",
    "\n",
    "# 3b. Get the latitude and longitude from each row and store in a new DataFrame.\n",
    "locations = vacation_df[[\"Latitude\", \"Longitude\"]]"
   ]
  },
  {
   "cell_type": "code",
   "execution_count": 9,
   "metadata": {},
   "outputs": [
    {
     "data": {
      "application/vnd.jupyter.widget-view+json": {
       "model_id": "0d3d04a1e1f547699c45007bb483840b",
       "version_major": 2,
       "version_minor": 0
      },
      "text/plain": [
       "Figure(layout=FigureLayout(border='1px solid black', height='600px', padding='1px', width='1000px'))"
      ]
     },
     "metadata": {},
     "output_type": "display_data"
    }
   ],
   "source": [
    "# 4a. Add a marker layer for each city to the map.\n",
    "figure_layout = {\n",
    "    'width': '1000px',\n",
    "    'height': '600px',\n",
    "    'border': '1px solid black',\n",
    "    'padding': '1px'\n",
    "}\n",
    "\n",
    "coordinates = vacation_df.loc[:, [\"Latitude\", \"Longitude\"]].values\n",
    "\n",
    "popups = []\n",
    "for indx, row in vacation_df.iterrows():\n",
    "    info_box_template = f\"\"\"\n",
    "    <dl>\n",
    "    <dt>Name</dt><dd>{row[\"Hotel Name\"]}</dd>\n",
    "    <dt>Address</dt><dd>{row[\"Hotel Address\"]}</dd>\n",
    "    <dt>City</dt><dd>{row[\"City\"]}</dd>\n",
    "    <dt>Countries</dt><dd>{row[\"Countries\"]}</dd>\n",
    "    </dl>\n",
    "    \"\"\"\n",
    "    popups.append(info_box_template)\n",
    "\n",
    "fig = gmaps.figure(layout=figure_layout, map_type='HYBRID')\n",
    "\n",
    "markers = gmaps.marker_layer(coordinates, info_box_content=popups)\n",
    "fig.add_layer(markers)\n",
    "# 4b. Display the figure\n",
    "fig"
   ]
  },
  {
   "cell_type": "code",
   "execution_count": 23,
   "metadata": {},
   "outputs": [],
   "source": [
    "# From the map above pick 4 cities and create a vacation itinerary route to travel between the four cities. \n",
    "# 5. Create DataFrames for each city by filtering the 'vacation_df' using the loc method. \n",
    "# Hint: The starting and ending city should be the same city.\n",
    "\n",
    "vacation_start = vacation_df.loc[vacation_df[\"City\"] == \"Saint Anthony\"]\n",
    "vacation_end = vacation_df.loc[vacation_df[\"City\"] == \"Saint Anthony\"]\n",
    "vacation_stop1 = vacation_df.loc[vacation_df[\"City\"] == \"Marshfield\"]\n",
    "vacation_stop2 = vacation_df.loc[vacation_df[\"City\"] == \"Goderich\"] \n",
    "vacation_stop3 = vacation_df.loc[vacation_df[\"City\"] == \"Lincoln\"] "
   ]
  },
  {
   "cell_type": "code",
   "execution_count": 24,
   "metadata": {},
   "outputs": [],
   "source": [
    "# 6. Get the latitude-longitude pairs as tuples from each city DataFrame using the to_numpy function and list indexing.\n",
    "start = vacation_start[\"Latitude\"].to_numpy()[0], vacation_start[\"Longitude\"].to_numpy()[0]\n",
    "end = vacation_end[\"Latitude\"].to_numpy()[0], vacation_end[\"Longitude\"].to_numpy()[0]\n",
    "stop_one = vacation_stop1[\"Latitude\"].to_numpy()[0], vacation_stop1[\"Longitude\"].to_numpy()[0]\n",
    "stop_two = vacation_stop2[\"Latitude\"].to_numpy()[0], vacation_stop2[\"Longitude\"].to_numpy()[0]\n",
    "stop_three = vacation_stop3[\"Latitude\"].to_numpy()[0], vacation_stop3[\"Longitude\"].to_numpy()[0]"
   ]
  },
  {
   "cell_type": "code",
   "execution_count": 25,
   "metadata": {
    "scrolled": true
   },
   "outputs": [
    {
     "data": {
      "application/vnd.jupyter.widget-view+json": {
       "model_id": "77cf4237508b416a98e9369efdca3be2",
       "version_major": 2,
       "version_minor": 0
      },
      "text/plain": [
       "Figure(layout=FigureLayout(height='420px'))"
      ]
     },
     "metadata": {},
     "output_type": "display_data"
    }
   ],
   "source": [
    "# 7. Create a direction layer map using the start and end latitude-longitude pairs,\n",
    "# and stop1, stop2, and stop3 as the waypoints. The travel_mode should be \"DRIVING\", \"BICYCLING\", or \"WALKING\".\n",
    "\n",
    "fig = gmaps.figure()\n",
    "bike_trip = gmaps.directions_layer(start, end, waypoints=[stop_one, stop_two, stop_three], travel_mode='BICYCLING')\n",
    "fig.add_layer(bike_trip)\n",
    "fig"
   ]
  },
  {
   "cell_type": "code",
   "execution_count": 26,
   "metadata": {},
   "outputs": [
    {
     "data": {
      "text/html": [
       "<div>\n",
       "<style scoped>\n",
       "    .dataframe tbody tr th:only-of-type {\n",
       "        vertical-align: middle;\n",
       "    }\n",
       "\n",
       "    .dataframe tbody tr th {\n",
       "        vertical-align: top;\n",
       "    }\n",
       "\n",
       "    .dataframe thead th {\n",
       "        text-align: right;\n",
       "    }\n",
       "</style>\n",
       "<table border=\"1\" class=\"dataframe\">\n",
       "  <thead>\n",
       "    <tr style=\"text-align: right;\">\n",
       "      <th></th>\n",
       "      <th>City_ID</th>\n",
       "      <th>City</th>\n",
       "      <th>Countries</th>\n",
       "      <th>Temp</th>\n",
       "      <th>Humidity</th>\n",
       "      <th>Latitude</th>\n",
       "      <th>Longitude</th>\n",
       "      <th>Hotel Name</th>\n",
       "      <th>Hotel Address</th>\n",
       "    </tr>\n",
       "  </thead>\n",
       "  <tbody>\n",
       "    <tr>\n",
       "      <th>0</th>\n",
       "      <td>112</td>\n",
       "      <td>Saint Anthony</td>\n",
       "      <td>US</td>\n",
       "      <td>78.37</td>\n",
       "      <td>26</td>\n",
       "      <td>45.0205</td>\n",
       "      <td>-93.2180</td>\n",
       "      <td>Holiday Inn Express Roseville-St. Paul</td>\n",
       "      <td>2715 Long Lake Road, Roseville</td>\n",
       "    </tr>\n",
       "    <tr>\n",
       "      <th>1</th>\n",
       "      <td>1</td>\n",
       "      <td>Marshfield</td>\n",
       "      <td>US</td>\n",
       "      <td>75.31</td>\n",
       "      <td>78</td>\n",
       "      <td>44.6689</td>\n",
       "      <td>-90.1718</td>\n",
       "      <td>Holiday Inn Conference Ctr Marshfield, an IHG ...</td>\n",
       "      <td>750 South Central Avenue, Marshfield</td>\n",
       "    </tr>\n",
       "    <tr>\n",
       "      <th>2</th>\n",
       "      <td>5</td>\n",
       "      <td>Goderich</td>\n",
       "      <td>CA</td>\n",
       "      <td>77.32</td>\n",
       "      <td>14</td>\n",
       "      <td>43.7501</td>\n",
       "      <td>-81.7165</td>\n",
       "      <td>Harmony Inn</td>\n",
       "      <td>242 Bayfield Road, Goderich</td>\n",
       "    </tr>\n",
       "    <tr>\n",
       "      <th>3</th>\n",
       "      <td>199</td>\n",
       "      <td>Lincoln</td>\n",
       "      <td>US</td>\n",
       "      <td>84.52</td>\n",
       "      <td>51</td>\n",
       "      <td>40.8000</td>\n",
       "      <td>-96.6670</td>\n",
       "      <td>Courtyard by Marriott Lincoln Downtown/Haymarket</td>\n",
       "      <td>808 R Street, Lincoln</td>\n",
       "    </tr>\n",
       "  </tbody>\n",
       "</table>\n",
       "</div>"
      ],
      "text/plain": [
       "   City_ID           City Countries   Temp  Humidity  Latitude  Longitude  \\\n",
       "0      112  Saint Anthony        US  78.37        26   45.0205   -93.2180   \n",
       "1        1     Marshfield        US  75.31        78   44.6689   -90.1718   \n",
       "2        5       Goderich        CA  77.32        14   43.7501   -81.7165   \n",
       "3      199        Lincoln        US  84.52        51   40.8000   -96.6670   \n",
       "\n",
       "                                          Hotel Name  \\\n",
       "0             Holiday Inn Express Roseville-St. Paul   \n",
       "1  Holiday Inn Conference Ctr Marshfield, an IHG ...   \n",
       "2                                        Harmony Inn   \n",
       "3   Courtyard by Marriott Lincoln Downtown/Haymarket   \n",
       "\n",
       "                          Hotel Address  \n",
       "0        2715 Long Lake Road, Roseville  \n",
       "1  750 South Central Avenue, Marshfield  \n",
       "2           242 Bayfield Road, Goderich  \n",
       "3                 808 R Street, Lincoln  "
      ]
     },
     "execution_count": 26,
     "metadata": {},
     "output_type": "execute_result"
    }
   ],
   "source": [
    "# 8. To create a marker layer map between the four cities.\n",
    "#  Combine the four city DataFrames into one DataFrame using the concat() function.\n",
    "midwest_bike_trip = pd.concat([vacation_start, vacation_stop1, vacation_stop2, vacation_stop3],ignore_index=True)\n",
    "midwest_bike_trip"
   ]
  },
  {
   "cell_type": "code",
   "execution_count": 30,
   "metadata": {},
   "outputs": [],
   "source": [
    "# 9 Using the template add city name, the country code, the weather description and maximum temperature for the city. \n",
    "info_box_template = \"\"\"\n",
    "<dl>\n",
    "<dt>Hotel Name</dt><dd>{Hotel Name}</dd>\n",
    "<dt>City</dt><dd>{City}</dd>\n",
    "<dt>Countries</dt><dd>{Countries}</dd>\n",
    "{Temp} °F</dd>\n",
    "</dl>\n",
    "\"\"\"\n",
    "\n",
    "# 10a Get the data from each row and add it to the formatting template and store the data in a list.\n",
    "hotel_info = [info_box_template.format(**row) for index, row in midwest_bike_trip.iterrows()]\n",
    "\n",
    "# 10b. Get the latitude and longitude from each row and store in a new DataFrame.\n",
    "locations = midwest_bike_trip[[\"Latitude\", \"Longitude\"]]"
   ]
  },
  {
   "cell_type": "code",
   "execution_count": 31,
   "metadata": {},
   "outputs": [
    {
     "data": {
      "application/vnd.jupyter.widget-view+json": {
       "model_id": "a454d5c132614b8c805ad23a4ef12bba",
       "version_major": 2,
       "version_minor": 0
      },
      "text/plain": [
       "Figure(layout=FigureLayout(height='420px'))"
      ]
     },
     "metadata": {},
     "output_type": "display_data"
    }
   ],
   "source": [
    "# 11a. Add a marker layer for each city to the map.\n",
    "fig = gmaps.figure()\n",
    "bike_trip_layer = gmaps.marker_layer(locations, info_box_content=hotel_info)\n",
    "fig.add_layer(bike_trip_layer)\n",
    "# 11b. Display the figure\n",
    "fig"
   ]
  },
  {
   "cell_type": "code",
   "execution_count": null,
   "metadata": {},
   "outputs": [],
   "source": []
  }
 ],
 "metadata": {
  "kernelspec": {
   "display_name": "PythonData",
   "language": "python",
   "name": "pythondata"
  },
  "language_info": {
   "codemirror_mode": {
    "name": "ipython",
    "version": 3
   },
   "file_extension": ".py",
   "mimetype": "text/x-python",
   "name": "python",
   "nbconvert_exporter": "python",
   "pygments_lexer": "ipython3",
   "version": "3.7.11"
  },
  "latex_envs": {
   "LaTeX_envs_menu_present": true,
   "autoclose": false,
   "autocomplete": true,
   "bibliofile": "biblio.bib",
   "cite_by": "apalike",
   "current_citInitial": 1,
   "eqLabelWithNumbers": true,
   "eqNumInitial": 1,
   "hotkeys": {
    "equation": "Ctrl-E",
    "itemize": "Ctrl-I"
   },
   "labels_anchors": false,
   "latex_user_defs": false,
   "report_style_numbering": false,
   "user_envs_cfg": false
  }
 },
 "nbformat": 4,
 "nbformat_minor": 2
}
